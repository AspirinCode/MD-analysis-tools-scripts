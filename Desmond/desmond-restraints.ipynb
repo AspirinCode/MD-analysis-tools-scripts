{
 "cells": [
  {
   "cell_type": "markdown",
   "metadata": {},
   "source": [
    "# Generate restraints for Anton \n",
    "\n",
    "We want to put positional restraints on backbone atoms during Anton simulations. The restraints will be registered in `.ark` file. We first use CHARMM to print the chain ID, residue ID, atom name, and reference coordinates.\n"
   ]
  },
  {
   "cell_type": "markdown",
   "metadata": {},
   "source": [
    "Format of `raw-res-omm4-534-544.str` written from CHARMM program:\n",
    "\n",
    "```\n",
    " A 631 N 109.707733 95.6012115 87.3311005\n",
    " A 631 CA 110.181793 96.1428757 86.0887527\n",
    " A 631 C 110.370567 95.1250153 84.9113541\n",
    " A 631 O 109.836243 95.2783356 83.8277283\n",
    " A 632 N 111.019066 93.9858932 85.1694946\n",
    " A 632 CA 111.136856 92.8180695 84.3220444\n",
    " A 632 C 109.787491 92.2381973 83.9545441\n",
    "\n",
    "```"
   ]
  },
  {
   "cell_type": "markdown",
   "metadata": {},
   "source": [
    "## For protein residues with selected range"
   ]
  },
  {
   "cell_type": "code",
   "execution_count": 6,
   "metadata": {},
   "outputs": [],
   "source": [
    "with open('raw-res-omm4-534-544.str', 'r') as f:\n",
    "    lines = f.readlines()\n",
    "\n",
    "with open('restraint-def1.out','w') as wf1:\n",
    "    with open('restraint-pos1.out','w') as wf2:\n",
    "        for line in lines:\n",
    "            str = line.split()\n",
    "            #print(str)\n",
    "            wf1.write('{\\n')\n",
    "            wf1.write('    name   = {}{}{}\\n'.format(str[0],str[1],str[2]))\n",
    "            wf1.write('    center = mass\\n')\n",
    "            wf1.write('    query  = \"segname PRO{} and resid {} and name {}\"\\n'\\\n",
    "                      .format(str[0],str[1],str[2]))\n",
    "            wf1.write('}\\n')\n",
    "            wf2.write('{\\n')\n",
    "            wf2.write('    type            = position\\n')\n",
    "            wf2.write('    groups          = [{}{}{}]\\n'.format(str[0],str[1],str[2]))\n",
    "            wf2.write('    position        = [ {} {} {} ]\\n'.format(str[3], \\\n",
    "                                                                    str[4],str[5]))\n",
    "            wf2.write('    form            = simple_harmonic\\n')\n",
    "            wf2.write('    spring_constant = 100\\n')\n",
    "            wf2.write('    equilibria      = [0]\\n')\n",
    "            wf2.write('}\\n')\n",
    "            "
   ]
  },
  {
   "cell_type": "markdown",
   "metadata": {},
   "source": [
    "## For heteroatoms "
   ]
  },
  {
   "cell_type": "code",
   "execution_count": 8,
   "metadata": {},
   "outputs": [],
   "source": [
    "with open('het-res-omm4.str', 'r') as f:\n",
    "    lines = f.readlines()\n",
    "\n",
    "with open('hete-res-omm4-def.out','w') as wf1:\n",
    "    with open('hete-res-omm4-pos.out','w') as wf2:\n",
    "        for line in lines:\n",
    "            str = line.split()\n",
    "            #print(str)\n",
    "            wf1.write('{\\n')\n",
    "            wf1.write('    name   = {}{}\\n'.format(str[0],str[1]))\n",
    "            wf1.write('    center = mass\\n')\n",
    "            wf1.write('    query  = \"segname HET{} and name {}\"\\n'\\\n",
    "                      .format(str[0],str[1]))\n",
    "            wf1.write('}\\n')\n",
    "            wf2.write('{\\n')\n",
    "            wf2.write('    type            = position\\n')\n",
    "            wf2.write('    groups          = [{}{}]\\n'.format(str[0],str[1]))\n",
    "            wf2.write('    position        = [ {} {} {} ]\\n'.format(str[2], \\\n",
    "                                                                    str[3],str[4]))\n",
    "            wf2.write('    form            = simple_harmonic\\n')\n",
    "            wf2.write('    spring_constant = 100\\n')\n",
    "            wf2.write('    equilibria      = [0]\\n')\n",
    "            wf2.write('}\\n')"
   ]
  },
  {
   "cell_type": "code",
   "execution_count": null,
   "metadata": {},
   "outputs": [],
   "source": []
  }
 ],
 "metadata": {
  "kernelspec": {
   "display_name": "Python 3",
   "language": "python",
   "name": "python3"
  },
  "language_info": {
   "codemirror_mode": {
    "name": "ipython",
    "version": 3
   },
   "file_extension": ".py",
   "mimetype": "text/x-python",
   "name": "python",
   "nbconvert_exporter": "python",
   "pygments_lexer": "ipython3",
   "version": "3.7.3"
  }
 },
 "nbformat": 4,
 "nbformat_minor": 2
}
